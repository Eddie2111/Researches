{
 "cells": [
  {
   "cell_type": "code",
   "execution_count": 164,
   "metadata": {},
   "outputs": [],
   "source": [
    "import pandas as pd\n",
    "import seaborn as sns\n",
    "import matplotlib.pyplot as plt\n",
    "import numpy as np\n",
    "\n",
    "from sklearn.model_selection import train_test_split\n",
    "from sklearn.linear_model import LinearRegression\n",
    "from sklearn.ensemble import RandomForestRegressor\n",
    "from sklearn.tree import DecisionTreeRegressor\n",
    "from sklearn.metrics import mean_squared_error\n"
   ]
  },
  {
   "cell_type": "code",
   "execution_count": 181,
   "metadata": {},
   "outputs": [],
   "source": [
    "records_1 = pd.read_csv(\"request_logs.csv\")\n",
    "records_2 = pd.read_csv(\"request_logs1.csv\")\n",
    "merged = pd.read_csv(\"merged_request_logs.csv\")"
   ]
  },
  {
   "cell_type": "code",
   "execution_count": 3,
   "metadata": {},
   "outputs": [
    {
     "data": {
      "text/html": [
       "<div>\n",
       "<style scoped>\n",
       "    .dataframe tbody tr th:only-of-type {\n",
       "        vertical-align: middle;\n",
       "    }\n",
       "\n",
       "    .dataframe tbody tr th {\n",
       "        vertical-align: top;\n",
       "    }\n",
       "\n",
       "    .dataframe thead th {\n",
       "        text-align: right;\n",
       "    }\n",
       "</style>\n",
       "<table border=\"1\" class=\"dataframe\">\n",
       "  <thead>\n",
       "    <tr style=\"text-align: right;\">\n",
       "      <th></th>\n",
       "      <th>name</th>\n",
       "      <th>username</th>\n",
       "      <th>email</th>\n",
       "      <th>response_time</th>\n",
       "      <th>request</th>\n",
       "    </tr>\n",
       "  </thead>\n",
       "  <tbody>\n",
       "    <tr>\n",
       "      <th>0</th>\n",
       "      <td>oNIHdciiaq</td>\n",
       "      <td>xHOKYveSFn</td>\n",
       "      <td>POZmQNFocE@test.com</td>\n",
       "      <td>0.078</td>\n",
       "      <td>1</td>\n",
       "    </tr>\n",
       "    <tr>\n",
       "      <th>1</th>\n",
       "      <td>jH15OWvQAT</td>\n",
       "      <td>64nIG1tbS9</td>\n",
       "      <td>iJVKV8ARo6@test.com</td>\n",
       "      <td>0.009</td>\n",
       "      <td>2</td>\n",
       "    </tr>\n",
       "    <tr>\n",
       "      <th>2</th>\n",
       "      <td>ItfhzrV0ta</td>\n",
       "      <td>R1G71cqJZ6</td>\n",
       "      <td>0LuCO2PwKE@test.com</td>\n",
       "      <td>0.008</td>\n",
       "      <td>3</td>\n",
       "    </tr>\n",
       "    <tr>\n",
       "      <th>3</th>\n",
       "      <td>Tg0HOMLviC</td>\n",
       "      <td>Ewta1LxVb9</td>\n",
       "      <td>ZZY6AUZYMK@test.com</td>\n",
       "      <td>0.006</td>\n",
       "      <td>4</td>\n",
       "    </tr>\n",
       "    <tr>\n",
       "      <th>4</th>\n",
       "      <td>gOxCBeXcX4</td>\n",
       "      <td>PhoM6em4mJ</td>\n",
       "      <td>g8knXVNe7Y@test.com</td>\n",
       "      <td>0.007</td>\n",
       "      <td>5</td>\n",
       "    </tr>\n",
       "    <tr>\n",
       "      <th>...</th>\n",
       "      <td>...</td>\n",
       "      <td>...</td>\n",
       "      <td>...</td>\n",
       "      <td>...</td>\n",
       "      <td>...</td>\n",
       "    </tr>\n",
       "    <tr>\n",
       "      <th>199990</th>\n",
       "      <td>aNOrwls4xp</td>\n",
       "      <td>n7rnxieW4Y</td>\n",
       "      <td>NbAp1KA52c@test.com</td>\n",
       "      <td>0.003</td>\n",
       "      <td>199991</td>\n",
       "    </tr>\n",
       "    <tr>\n",
       "      <th>199991</th>\n",
       "      <td>OUqcybqd0N</td>\n",
       "      <td>uSUmnGIJes</td>\n",
       "      <td>XK4kFv9Qpi@test.com</td>\n",
       "      <td>0.004</td>\n",
       "      <td>199992</td>\n",
       "    </tr>\n",
       "    <tr>\n",
       "      <th>199992</th>\n",
       "      <td>At6LFVwK3P</td>\n",
       "      <td>VhYPxTSBIV</td>\n",
       "      <td>951FZV9LCX@test.com</td>\n",
       "      <td>0.004</td>\n",
       "      <td>199993</td>\n",
       "    </tr>\n",
       "    <tr>\n",
       "      <th>199993</th>\n",
       "      <td>2KI3Pa9jo8</td>\n",
       "      <td>oB3j4DY2DK</td>\n",
       "      <td>yMMLteQjM9@test.com</td>\n",
       "      <td>0.005</td>\n",
       "      <td>199994</td>\n",
       "    </tr>\n",
       "    <tr>\n",
       "      <th>199994</th>\n",
       "      <td>zfuVm1Vh7v</td>\n",
       "      <td>aVt4eCqCeM</td>\n",
       "      <td>UbzJPPjg7B@test.com</td>\n",
       "      <td>0.004</td>\n",
       "      <td>199995</td>\n",
       "    </tr>\n",
       "  </tbody>\n",
       "</table>\n",
       "<p>199995 rows × 5 columns</p>\n",
       "</div>"
      ],
      "text/plain": [
       "              name    username                email  response_time  request\n",
       "0       oNIHdciiaq  xHOKYveSFn  POZmQNFocE@test.com          0.078        1\n",
       "1       jH15OWvQAT  64nIG1tbS9  iJVKV8ARo6@test.com          0.009        2\n",
       "2       ItfhzrV0ta  R1G71cqJZ6  0LuCO2PwKE@test.com          0.008        3\n",
       "3       Tg0HOMLviC  Ewta1LxVb9  ZZY6AUZYMK@test.com          0.006        4\n",
       "4       gOxCBeXcX4  PhoM6em4mJ  g8knXVNe7Y@test.com          0.007        5\n",
       "...            ...         ...                  ...            ...      ...\n",
       "199990  aNOrwls4xp  n7rnxieW4Y  NbAp1KA52c@test.com          0.003   199991\n",
       "199991  OUqcybqd0N  uSUmnGIJes  XK4kFv9Qpi@test.com          0.004   199992\n",
       "199992  At6LFVwK3P  VhYPxTSBIV  951FZV9LCX@test.com          0.004   199993\n",
       "199993  2KI3Pa9jo8  oB3j4DY2DK  yMMLteQjM9@test.com          0.005   199994\n",
       "199994  zfuVm1Vh7v  aVt4eCqCeM  UbzJPPjg7B@test.com          0.004   199995\n",
       "\n",
       "[199995 rows x 5 columns]"
      ]
     },
     "execution_count": 3,
     "metadata": {},
     "output_type": "execute_result"
    }
   ],
   "source": [
    "merged.head(-5)"
   ]
  },
  {
   "cell_type": "code",
   "execution_count": 13,
   "metadata": {},
   "outputs": [],
   "source": [
    "# merging with ID number\n",
    "# DO NOT RUN THIS CELL\n",
    "# not required anymore!\n",
    "merged['request'] = range(1, len(merged) + 1)\n",
    "merged.to_csv(\"merged_request_logs.csv\", index=False)\n",
    "# not required anymore!"
   ]
  },
  {
   "cell_type": "code",
   "execution_count": null,
   "metadata": {},
   "outputs": [],
   "source": [
    "plt.figure(figsize=(10, 6))\n",
    "sns.barplot(x='request', y='response_time', data=merged, palette='viridis')\n",
    "plt.title('Response Time by Request')\n",
    "plt.xlabel('Request')\n",
    "plt.ylabel('Response Time')\n",
    "plt.show()"
   ]
  },
  {
   "cell_type": "code",
   "execution_count": null,
   "metadata": {},
   "outputs": [],
   "source": [
    "heatmap_data = merged.pivot('request', 'name', 'response_time')\n",
    "plt.figure(figsize=(10, 6))\n",
    "sns.heatmap(heatmap_data, cmap='coolwarm', annot=True, fmt=\".3f\")\n",
    "plt.title('Response Time Heatmap')\n",
    "plt.xlabel('Name')\n",
    "plt.ylabel('Request')\n",
    "plt.show()"
   ]
  },
  {
   "cell_type": "code",
   "execution_count": 7,
   "metadata": {},
   "outputs": [
    {
     "data": {
      "text/plain": [
       "name              object\n",
       "username          object\n",
       "email             object\n",
       "response_time    float64\n",
       "request            int64\n",
       "dtype: object"
      ]
     },
     "execution_count": 7,
     "metadata": {},
     "output_type": "execute_result"
    }
   ],
   "source": [
    "merged.dtypes"
   ]
  },
  {
   "cell_type": "code",
   "execution_count": 182,
   "metadata": {},
   "outputs": [],
   "source": [
    "X = merged.drop(columns=['name', 'username', 'email', 'response_time'])\n",
    "y = merged['response_time']\n",
    "\n",
    "X_train, X_test, y_train, y_test = train_test_split(X, y, test_size=0.2, random_state=42)\n"
   ]
  },
  {
   "cell_type": "code",
   "execution_count": 183,
   "metadata": {},
   "outputs": [
    {
     "name": "stdout",
     "output_type": "stream",
     "text": [
      "Mean Squared Error: 6.0007885920291645e-06\n"
     ]
    }
   ],
   "source": [
    "# Linear Regression model\n",
    "linear_reg_model = LinearRegression()\n",
    "linear_reg_model.fit(X_train, y_train)\n",
    "\n",
    "predictions = linear_reg_model.predict(X_test)\n",
    "\n",
    "mse = mean_squared_error(y_test, predictions)\n",
    "print(\"Mean Squared Error:\", mse)"
   ]
  },
  {
   "cell_type": "code",
   "execution_count": 184,
   "metadata": {},
   "outputs": [
    {
     "name": "stdout",
     "output_type": "stream",
     "text": [
      "Decision Tree Mean Squared Error: 8.021942249999999e-06\n"
     ]
    }
   ],
   "source": [
    "# Decision Tree model\n",
    "decision_tree_model = DecisionTreeRegressor()\n",
    "decision_tree_model.fit(X_train, y_train)\n",
    "\n",
    "decision_tree_predictions = decision_tree_model.predict(X_test)\n",
    "\n",
    "decision_tree_mse = mean_squared_error(y_test, decision_tree_predictions)\n",
    "print(\"Decision Tree Mean Squared Error:\", decision_tree_mse)\n"
   ]
  },
  {
   "cell_type": "code",
   "execution_count": 185,
   "metadata": {},
   "outputs": [
    {
     "name": "stdout",
     "output_type": "stream",
     "text": [
      "Random Forest Mean Squared Error: 6.1741896922249995e-06\n"
     ]
    }
   ],
   "source": [
    "# Random Forest Model\n",
    "random_forest_model = RandomForestRegressor()\n",
    "random_forest_model.fit(X_train, y_train)\n",
    "\n",
    "random_forest_predictions = random_forest_model.predict(X_test)\n",
    "\n",
    "random_forest_mse = mean_squared_error(y_test, random_forest_predictions)\n",
    "print(\"Random Forest Mean Squared Error:\", random_forest_mse)"
   ]
  },
  {
   "cell_type": "code",
   "execution_count": 186,
   "metadata": {},
   "outputs": [
    {
     "name": "stdout",
     "output_type": "stream",
     "text": [
      "Predicted Response Time for the 2000005 request: [0.00864741]\n",
      "Predicted Response Time for the 2000006 request: [0.00864741]\n",
      "Predicted Response Time for the 2000007 request: [0.00864741]\n",
      "Predicted Response Time for the 2000008 request: [0.00864741]\n",
      "Predicted Response Time for the 2000009 request: [0.00864741]\n",
      "Predicted Response Time for the 2000010 request: [0.00864742]\n",
      "Predicted Response Time for the 2000011 request: [0.00864742]\n",
      "Predicted Response Time for the 2000012 request: [0.00864742]\n",
      "Predicted Response Time for the 2000013 request: [0.00864742]\n",
      "Predicted Response Time for the 2000014 request: [0.00864742]\n",
      "10\n"
     ]
    },
    {
     "name": "stderr",
     "output_type": "stream",
     "text": [
      "c:\\Users\\EdwardZephyr\\AppData\\Local\\Programs\\Python\\Python310\\lib\\site-packages\\sklearn\\base.py:464: UserWarning: X does not have valid feature names, but LinearRegression was fitted with feature names\n",
      "  warnings.warn(\n",
      "c:\\Users\\EdwardZephyr\\AppData\\Local\\Programs\\Python\\Python310\\lib\\site-packages\\sklearn\\base.py:464: UserWarning: X does not have valid feature names, but LinearRegression was fitted with feature names\n",
      "  warnings.warn(\n",
      "c:\\Users\\EdwardZephyr\\AppData\\Local\\Programs\\Python\\Python310\\lib\\site-packages\\sklearn\\base.py:464: UserWarning: X does not have valid feature names, but LinearRegression was fitted with feature names\n",
      "  warnings.warn(\n",
      "c:\\Users\\EdwardZephyr\\AppData\\Local\\Programs\\Python\\Python310\\lib\\site-packages\\sklearn\\base.py:464: UserWarning: X does not have valid feature names, but LinearRegression was fitted with feature names\n",
      "  warnings.warn(\n",
      "c:\\Users\\EdwardZephyr\\AppData\\Local\\Programs\\Python\\Python310\\lib\\site-packages\\sklearn\\base.py:464: UserWarning: X does not have valid feature names, but LinearRegression was fitted with feature names\n",
      "  warnings.warn(\n",
      "c:\\Users\\EdwardZephyr\\AppData\\Local\\Programs\\Python\\Python310\\lib\\site-packages\\sklearn\\base.py:464: UserWarning: X does not have valid feature names, but LinearRegression was fitted with feature names\n",
      "  warnings.warn(\n",
      "c:\\Users\\EdwardZephyr\\AppData\\Local\\Programs\\Python\\Python310\\lib\\site-packages\\sklearn\\base.py:464: UserWarning: X does not have valid feature names, but LinearRegression was fitted with feature names\n",
      "  warnings.warn(\n",
      "c:\\Users\\EdwardZephyr\\AppData\\Local\\Programs\\Python\\Python310\\lib\\site-packages\\sklearn\\base.py:464: UserWarning: X does not have valid feature names, but LinearRegression was fitted with feature names\n",
      "  warnings.warn(\n",
      "c:\\Users\\EdwardZephyr\\AppData\\Local\\Programs\\Python\\Python310\\lib\\site-packages\\sklearn\\base.py:464: UserWarning: X does not have valid feature names, but LinearRegression was fitted with feature names\n",
      "  warnings.warn(\n",
      "c:\\Users\\EdwardZephyr\\AppData\\Local\\Programs\\Python\\Python310\\lib\\site-packages\\sklearn\\base.py:464: UserWarning: X does not have valid feature names, but LinearRegression was fitted with feature names\n",
      "  warnings.warn(\n",
      "c:\\Users\\EdwardZephyr\\AppData\\Local\\Programs\\Python\\Python310\\lib\\site-packages\\sklearn\\base.py:464: UserWarning: X does not have valid feature names, but LinearRegression was fitted with feature names\n",
      "  warnings.warn(\n",
      "c:\\Users\\EdwardZephyr\\AppData\\Local\\Programs\\Python\\Python310\\lib\\site-packages\\sklearn\\base.py:464: UserWarning: X does not have valid feature names, but LinearRegression was fitted with feature names\n",
      "  warnings.warn(\n",
      "c:\\Users\\EdwardZephyr\\AppData\\Local\\Programs\\Python\\Python310\\lib\\site-packages\\sklearn\\base.py:464: UserWarning: X does not have valid feature names, but LinearRegression was fitted with feature names\n",
      "  warnings.warn(\n",
      "c:\\Users\\EdwardZephyr\\AppData\\Local\\Programs\\Python\\Python310\\lib\\site-packages\\sklearn\\base.py:464: UserWarning: X does not have valid feature names, but LinearRegression was fitted with feature names\n",
      "  warnings.warn(\n",
      "c:\\Users\\EdwardZephyr\\AppData\\Local\\Programs\\Python\\Python310\\lib\\site-packages\\sklearn\\base.py:464: UserWarning: X does not have valid feature names, but LinearRegression was fitted with feature names\n",
      "  warnings.warn(\n",
      "c:\\Users\\EdwardZephyr\\AppData\\Local\\Programs\\Python\\Python310\\lib\\site-packages\\sklearn\\base.py:464: UserWarning: X does not have valid feature names, but LinearRegression was fitted with feature names\n",
      "  warnings.warn(\n",
      "c:\\Users\\EdwardZephyr\\AppData\\Local\\Programs\\Python\\Python310\\lib\\site-packages\\sklearn\\base.py:464: UserWarning: X does not have valid feature names, but LinearRegression was fitted with feature names\n",
      "  warnings.warn(\n",
      "c:\\Users\\EdwardZephyr\\AppData\\Local\\Programs\\Python\\Python310\\lib\\site-packages\\sklearn\\base.py:464: UserWarning: X does not have valid feature names, but LinearRegression was fitted with feature names\n",
      "  warnings.warn(\n",
      "c:\\Users\\EdwardZephyr\\AppData\\Local\\Programs\\Python\\Python310\\lib\\site-packages\\sklearn\\base.py:464: UserWarning: X does not have valid feature names, but LinearRegression was fitted with feature names\n",
      "  warnings.warn(\n",
      "c:\\Users\\EdwardZephyr\\AppData\\Local\\Programs\\Python\\Python310\\lib\\site-packages\\sklearn\\base.py:464: UserWarning: X does not have valid feature names, but LinearRegression was fitted with feature names\n",
      "  warnings.warn(\n"
     ]
    }
   ],
   "source": [
    "# Predicting the processing time of 200005th request\n",
    "request_value = 2000005\n",
    "linearModel = []\n",
    "request_points = [1,100,1000,10000,100000,1000000,10000000, 100000000, 1000000000, 10000000000]\n",
    "\n",
    "for i in range(request_value, request_value+10):\n",
    "    request_value_2d = np.array([i]).reshape(-1, 1)\n",
    "    predicted_response_time = linear_reg_model.predict(request_value_2d)\n",
    "    print(f\"Predicted Response Time for the {i} request:\", predicted_response_time)\n",
    "for x in request_points:\n",
    "    request_value_2d = np.array([x]).reshape(-1, 1)\n",
    "    predicted_response_time = linear_reg_model.predict(request_value_2d)\n",
    "    linearModel.append(predicted_response_time)\n",
    "\n",
    "print(len(linearModel))"
   ]
  },
  {
   "cell_type": "code",
   "execution_count": 187,
   "metadata": {},
   "outputs": [
    {
     "name": "stdout",
     "output_type": "stream",
     "text": [
      "Predicted Response Time for the 2000005 request: [0.00409]\n",
      "Predicted Response Time for the 2000006 request: [0.00409]\n",
      "Predicted Response Time for the 2000007 request: [0.00409]\n",
      "Predicted Response Time for the 2000008 request: [0.00409]\n",
      "Predicted Response Time for the 2000009 request: [0.00409]\n",
      "Predicted Response Time for the 2000010 request: [0.00409]\n",
      "Predicted Response Time for the 2000011 request: [0.00409]\n",
      "Predicted Response Time for the 2000012 request: [0.00409]\n"
     ]
    },
    {
     "name": "stderr",
     "output_type": "stream",
     "text": [
      "c:\\Users\\EdwardZephyr\\AppData\\Local\\Programs\\Python\\Python310\\lib\\site-packages\\sklearn\\base.py:464: UserWarning: X does not have valid feature names, but RandomForestRegressor was fitted with feature names\n",
      "  warnings.warn(\n",
      "c:\\Users\\EdwardZephyr\\AppData\\Local\\Programs\\Python\\Python310\\lib\\site-packages\\sklearn\\base.py:464: UserWarning: X does not have valid feature names, but RandomForestRegressor was fitted with feature names\n",
      "  warnings.warn(\n",
      "c:\\Users\\EdwardZephyr\\AppData\\Local\\Programs\\Python\\Python310\\lib\\site-packages\\sklearn\\base.py:464: UserWarning: X does not have valid feature names, but RandomForestRegressor was fitted with feature names\n",
      "  warnings.warn(\n",
      "c:\\Users\\EdwardZephyr\\AppData\\Local\\Programs\\Python\\Python310\\lib\\site-packages\\sklearn\\base.py:464: UserWarning: X does not have valid feature names, but RandomForestRegressor was fitted with feature names\n",
      "  warnings.warn(\n",
      "c:\\Users\\EdwardZephyr\\AppData\\Local\\Programs\\Python\\Python310\\lib\\site-packages\\sklearn\\base.py:464: UserWarning: X does not have valid feature names, but RandomForestRegressor was fitted with feature names\n",
      "  warnings.warn(\n",
      "c:\\Users\\EdwardZephyr\\AppData\\Local\\Programs\\Python\\Python310\\lib\\site-packages\\sklearn\\base.py:464: UserWarning: X does not have valid feature names, but RandomForestRegressor was fitted with feature names\n",
      "  warnings.warn(\n",
      "c:\\Users\\EdwardZephyr\\AppData\\Local\\Programs\\Python\\Python310\\lib\\site-packages\\sklearn\\base.py:464: UserWarning: X does not have valid feature names, but RandomForestRegressor was fitted with feature names\n",
      "  warnings.warn(\n",
      "c:\\Users\\EdwardZephyr\\AppData\\Local\\Programs\\Python\\Python310\\lib\\site-packages\\sklearn\\base.py:464: UserWarning: X does not have valid feature names, but RandomForestRegressor was fitted with feature names\n",
      "  warnings.warn(\n",
      "c:\\Users\\EdwardZephyr\\AppData\\Local\\Programs\\Python\\Python310\\lib\\site-packages\\sklearn\\base.py:464: UserWarning: X does not have valid feature names, but RandomForestRegressor was fitted with feature names\n",
      "  warnings.warn(\n"
     ]
    },
    {
     "name": "stdout",
     "output_type": "stream",
     "text": [
      "Predicted Response Time for the 2000013 request:"
     ]
    },
    {
     "name": "stderr",
     "output_type": "stream",
     "text": [
      "c:\\Users\\EdwardZephyr\\AppData\\Local\\Programs\\Python\\Python310\\lib\\site-packages\\sklearn\\base.py:464: UserWarning: X does not have valid feature names, but RandomForestRegressor was fitted with feature names\n",
      "  warnings.warn(\n",
      "c:\\Users\\EdwardZephyr\\AppData\\Local\\Programs\\Python\\Python310\\lib\\site-packages\\sklearn\\base.py:464: UserWarning: X does not have valid feature names, but RandomForestRegressor was fitted with feature names\n",
      "  warnings.warn(\n",
      "c:\\Users\\EdwardZephyr\\AppData\\Local\\Programs\\Python\\Python310\\lib\\site-packages\\sklearn\\base.py:464: UserWarning: X does not have valid feature names, but RandomForestRegressor was fitted with feature names\n",
      "  warnings.warn(\n",
      "c:\\Users\\EdwardZephyr\\AppData\\Local\\Programs\\Python\\Python310\\lib\\site-packages\\sklearn\\base.py:464: UserWarning: X does not have valid feature names, but RandomForestRegressor was fitted with feature names\n",
      "  warnings.warn(\n",
      "c:\\Users\\EdwardZephyr\\AppData\\Local\\Programs\\Python\\Python310\\lib\\site-packages\\sklearn\\base.py:464: UserWarning: X does not have valid feature names, but RandomForestRegressor was fitted with feature names\n",
      "  warnings.warn(\n",
      "c:\\Users\\EdwardZephyr\\AppData\\Local\\Programs\\Python\\Python310\\lib\\site-packages\\sklearn\\base.py:464: UserWarning: X does not have valid feature names, but RandomForestRegressor was fitted with feature names\n",
      "  warnings.warn(\n",
      "c:\\Users\\EdwardZephyr\\AppData\\Local\\Programs\\Python\\Python310\\lib\\site-packages\\sklearn\\base.py:464: UserWarning: X does not have valid feature names, but RandomForestRegressor was fitted with feature names\n",
      "  warnings.warn(\n"
     ]
    },
    {
     "name": "stdout",
     "output_type": "stream",
     "text": [
      " [0.00409]\n",
      "Predicted Response Time for the 2000014 request: [0.00409]\n"
     ]
    },
    {
     "name": "stderr",
     "output_type": "stream",
     "text": [
      "c:\\Users\\EdwardZephyr\\AppData\\Local\\Programs\\Python\\Python310\\lib\\site-packages\\sklearn\\base.py:464: UserWarning: X does not have valid feature names, but RandomForestRegressor was fitted with feature names\n",
      "  warnings.warn(\n",
      "c:\\Users\\EdwardZephyr\\AppData\\Local\\Programs\\Python\\Python310\\lib\\site-packages\\sklearn\\base.py:464: UserWarning: X does not have valid feature names, but RandomForestRegressor was fitted with feature names\n",
      "  warnings.warn(\n",
      "c:\\Users\\EdwardZephyr\\AppData\\Local\\Programs\\Python\\Python310\\lib\\site-packages\\sklearn\\base.py:464: UserWarning: X does not have valid feature names, but RandomForestRegressor was fitted with feature names\n",
      "  warnings.warn(\n",
      "c:\\Users\\EdwardZephyr\\AppData\\Local\\Programs\\Python\\Python310\\lib\\site-packages\\sklearn\\base.py:464: UserWarning: X does not have valid feature names, but RandomForestRegressor was fitted with feature names\n",
      "  warnings.warn(\n"
     ]
    }
   ],
   "source": [
    "# Predicting the processing time of 200005th request with random forest\n",
    "request_value = 2000005\n",
    "randomForest = []\n",
    "\n",
    "for i in range(request_value, request_value+10):\n",
    "    request_value_2d = np.array([i]).reshape(-1, 1)\n",
    "    predicted_response_time = random_forest_model.predict(request_value_2d)\n",
    "    print(f\"Predicted Response Time for the {i} request:\", predicted_response_time)\n",
    "\n",
    "for i in request_points:\n",
    "    request_value_2d = np.array([i]).reshape(-1, 1)\n",
    "    predicted_response_time = random_forest_model.predict(request_value_2d)\n",
    "    randomForest.append(predicted_response_time)"
   ]
  },
  {
   "cell_type": "code",
   "execution_count": 188,
   "metadata": {},
   "outputs": [
    {
     "name": "stderr",
     "output_type": "stream",
     "text": [
      "c:\\Users\\EdwardZephyr\\AppData\\Local\\Programs\\Python\\Python310\\lib\\site-packages\\sklearn\\base.py:464: UserWarning: X does not have valid feature names, but DecisionTreeRegressor was fitted with feature names\n",
      "  warnings.warn(\n",
      "c:\\Users\\EdwardZephyr\\AppData\\Local\\Programs\\Python\\Python310\\lib\\site-packages\\sklearn\\base.py:464: UserWarning: X does not have valid feature names, but DecisionTreeRegressor was fitted with feature names\n",
      "  warnings.warn(\n",
      "c:\\Users\\EdwardZephyr\\AppData\\Local\\Programs\\Python\\Python310\\lib\\site-packages\\sklearn\\base.py:464: UserWarning: X does not have valid feature names, but DecisionTreeRegressor was fitted with feature names\n",
      "  warnings.warn(\n",
      "c:\\Users\\EdwardZephyr\\AppData\\Local\\Programs\\Python\\Python310\\lib\\site-packages\\sklearn\\base.py:464: UserWarning: X does not have valid feature names, but DecisionTreeRegressor was fitted with feature names\n",
      "  warnings.warn(\n",
      "c:\\Users\\EdwardZephyr\\AppData\\Local\\Programs\\Python\\Python310\\lib\\site-packages\\sklearn\\base.py:464: UserWarning: X does not have valid feature names, but DecisionTreeRegressor was fitted with feature names\n",
      "  warnings.warn(\n",
      "c:\\Users\\EdwardZephyr\\AppData\\Local\\Programs\\Python\\Python310\\lib\\site-packages\\sklearn\\base.py:464: UserWarning: X does not have valid feature names, but DecisionTreeRegressor was fitted with feature names\n",
      "  warnings.warn(\n",
      "c:\\Users\\EdwardZephyr\\AppData\\Local\\Programs\\Python\\Python310\\lib\\site-packages\\sklearn\\base.py:464: UserWarning: X does not have valid feature names, but DecisionTreeRegressor was fitted with feature names\n",
      "  warnings.warn(\n",
      "c:\\Users\\EdwardZephyr\\AppData\\Local\\Programs\\Python\\Python310\\lib\\site-packages\\sklearn\\base.py:464: UserWarning: X does not have valid feature names, but DecisionTreeRegressor was fitted with feature names\n",
      "  warnings.warn(\n",
      "c:\\Users\\EdwardZephyr\\AppData\\Local\\Programs\\Python\\Python310\\lib\\site-packages\\sklearn\\base.py:464: UserWarning: X does not have valid feature names, but DecisionTreeRegressor was fitted with feature names\n",
      "  warnings.warn(\n",
      "c:\\Users\\EdwardZephyr\\AppData\\Local\\Programs\\Python\\Python310\\lib\\site-packages\\sklearn\\base.py:464: UserWarning: X does not have valid feature names, but DecisionTreeRegressor was fitted with feature names\n",
      "  warnings.warn(\n",
      "c:\\Users\\EdwardZephyr\\AppData\\Local\\Programs\\Python\\Python310\\lib\\site-packages\\sklearn\\base.py:464: UserWarning: X does not have valid feature names, but DecisionTreeRegressor was fitted with feature names\n",
      "  warnings.warn(\n",
      "c:\\Users\\EdwardZephyr\\AppData\\Local\\Programs\\Python\\Python310\\lib\\site-packages\\sklearn\\base.py:464: UserWarning: X does not have valid feature names, but DecisionTreeRegressor was fitted with feature names\n",
      "  warnings.warn(\n",
      "c:\\Users\\EdwardZephyr\\AppData\\Local\\Programs\\Python\\Python310\\lib\\site-packages\\sklearn\\base.py:464: UserWarning: X does not have valid feature names, but DecisionTreeRegressor was fitted with feature names\n",
      "  warnings.warn(\n",
      "c:\\Users\\EdwardZephyr\\AppData\\Local\\Programs\\Python\\Python310\\lib\\site-packages\\sklearn\\base.py:464: UserWarning: X does not have valid feature names, but DecisionTreeRegressor was fitted with feature names\n",
      "  warnings.warn(\n",
      "c:\\Users\\EdwardZephyr\\AppData\\Local\\Programs\\Python\\Python310\\lib\\site-packages\\sklearn\\base.py:464: UserWarning: X does not have valid feature names, but DecisionTreeRegressor was fitted with feature names\n",
      "  warnings.warn(\n",
      "c:\\Users\\EdwardZephyr\\AppData\\Local\\Programs\\Python\\Python310\\lib\\site-packages\\sklearn\\base.py:464: UserWarning: X does not have valid feature names, but DecisionTreeRegressor was fitted with feature names\n",
      "  warnings.warn(\n",
      "c:\\Users\\EdwardZephyr\\AppData\\Local\\Programs\\Python\\Python310\\lib\\site-packages\\sklearn\\base.py:464: UserWarning: X does not have valid feature names, but DecisionTreeRegressor was fitted with feature names\n",
      "  warnings.warn(\n",
      "c:\\Users\\EdwardZephyr\\AppData\\Local\\Programs\\Python\\Python310\\lib\\site-packages\\sklearn\\base.py:464: UserWarning: X does not have valid feature names, but DecisionTreeRegressor was fitted with feature names\n",
      "  warnings.warn(\n",
      "c:\\Users\\EdwardZephyr\\AppData\\Local\\Programs\\Python\\Python310\\lib\\site-packages\\sklearn\\base.py:464: UserWarning: X does not have valid feature names, but DecisionTreeRegressor was fitted with feature names\n",
      "  warnings.warn(\n",
      "c:\\Users\\EdwardZephyr\\AppData\\Local\\Programs\\Python\\Python310\\lib\\site-packages\\sklearn\\base.py:464: UserWarning: X does not have valid feature names, but DecisionTreeRegressor was fitted with feature names\n",
      "  warnings.warn(\n"
     ]
    },
    {
     "name": "stdout",
     "output_type": "stream",
     "text": [
      "Predicted Response Time for the 2000005 request: [0.004]\n",
      "Predicted Response Time for the 2000006 request: [0.004]\n",
      "Predicted Response Time for the 2000007 request: [0.004]\n",
      "Predicted Response Time for the 2000008 request: [0.004]\n",
      "Predicted Response Time for the 2000009 request: [0.004]\n",
      "Predicted Response Time for the 2000010 request: [0.004]\n",
      "Predicted Response Time for the 2000011 request: [0.004]\n",
      "Predicted Response Time for the 2000012 request: [0.004]\n",
      "Predicted Response Time for the 2000013 request: [0.004]\n",
      "Predicted Response Time for the 2000014 request: [0.004]\n"
     ]
    }
   ],
   "source": [
    "# Predicting the processing time of 200005th request with decision tree\n",
    "request_value = 2000005\n",
    "decisionTree = []\n",
    "\n",
    "for i in range(request_value, request_value+10):\n",
    "    request_value_2d = np.array([i]).reshape(-1, 1)\n",
    "    predicted_response_time = decision_tree_model.predict(request_value_2d)\n",
    "    print(f\"Predicted Response Time for the {i} request:\", predicted_response_time)\n",
    "\n",
    "for i in request_points:\n",
    "    request_value_2d = np.array([i]).reshape(-1, 1)\n",
    "    predicted_response_time = decision_tree_model.predict(request_value_2d)\n",
    "    decisionTree.append(predicted_response_time)"
   ]
  },
  {
   "cell_type": "code",
   "execution_count": 189,
   "metadata": {},
   "outputs": [
    {
     "name": "stdout",
     "output_type": "stream",
     "text": [
      "[1, 100, 1000, 10000, 100000, 1000000, 10000000, 100000000, 1000000000, 10000000000] [0.004958619898150941, 0.004958802492762314, 0.004960462443774792, 0.004977061953899575, 0.005143057055147413, 0.006803008067625787, 0.02340251819240953, 0.18939761944024694, 1.849348631918621, 18.44885875670236]\n"
     ]
    },
    {
     "data": {
      "image/png": "[encoded data removed]",
      "text/plain": [
       "<Figure size 640x480 with 1 Axes>"
      ]
     },
     "metadata": {},
     "output_type": "display_data"
    }
   ],
   "source": [
    "import matplotlib.pyplot as plt\n",
    "\n",
    "# Define your data\n",
    "x = request_points\n",
    "_y = []\n",
    "for i in linearModel:\n",
    "    _y.append(i[0])\n",
    "\n",
    "print(x,_y)\n",
    "# Create the line plot\n",
    "plt.plot(x, _y, marker='o')\n",
    "\n",
    "# Set logarithmic scale for x-axis\n",
    "plt.xscale('log')\n",
    "\n",
    "# Add labels and title\n",
    "plt.xlabel('Discrete Values (X-axis)')\n",
    "plt.ylabel('Continuous Values (Y-axis)')\n",
    "plt.title('Requests vs Response time prediction with Linear Regression')\n",
    "\n",
    "# Show the plot\n",
    "plt.show()\n"
   ]
  },
  {
   "cell_type": "code",
   "execution_count": 190,
   "metadata": {},
   "outputs": [
    {
     "name": "stdout",
     "output_type": "stream",
     "text": [
      "[1, 100, 1000, 10000, 100000, 1000000, 10000000, 100000000, 1000000000, 10000000000] [0.004, 0.004, 0.004, 0.004, 0.004, 0.005, 0.006, 0.006, 0.006, 0.078]\n"
     ]
    },
    {
     "data": {
      "image/png": "[encoded data removed]",
      "text/plain": [
       "<Figure size 640x480 with 1 Axes>"
      ]
     },
     "metadata": {},
     "output_type": "display_data"
    }
   ],
   "source": [
    "import matplotlib.pyplot as plt\n",
    "\n",
    "# Define your data\n",
    "x = request_points\n",
    "_y = []\n",
    "for i in decisionTree:\n",
    "    _y.append(i[0])\n",
    "_y = _y[::-1]\n",
    "print(x,_y)\n",
    "# Create the line plot\n",
    "plt.plot(x, _y, marker='o')\n",
    "\n",
    "# Set logarithmic scale for x-axis\n",
    "plt.xscale('log')\n",
    "\n",
    "# Add labels and title\n",
    "plt.xlabel('Discrete Values (X-axis)')\n",
    "plt.ylabel('Continuous Values (Y-axis)')\n",
    "plt.title('Requests vs Response time prediction with Decision Tree')\n",
    "\n",
    "# Show the plot\n",
    "plt.show()\n"
   ]
  },
  {
   "cell_type": "code",
   "execution_count": 191,
   "metadata": {},
   "outputs": [
    {
     "name": "stdout",
     "output_type": "stream",
     "text": [
      "[1, 100, 1000, 10000, 100000, 1000000, 10000000, 100000000, 1000000000, 10000000000] [0.004090000000000003, 0.004090000000000003, 0.004090000000000003, 0.004090000000000003, 0.004090000000000003, 0.0072300000000000055, 0.005660000000000004, 0.0066600000000000045, 0.0056200000000000035, 0.05440000000000003]\n"
     ]
    },
    {
     "data": {
      "image/png": "[encoded data removed]",
      "text/plain": [
       "<Figure size 640x480 with 1 Axes>"
      ]
     },
     "metadata": {},
     "output_type": "display_data"
    }
   ],
   "source": [
    "import matplotlib.pyplot as plt\n",
    "\n",
    "# Define your data\n",
    "x = request_points\n",
    "_y = []\n",
    "for i in randomForest:\n",
    "    _y.append(i[0])\n",
    "_y = _y[::-1]\n",
    "print(x,_y)\n",
    "# Create the line plot\n",
    "plt.plot(x, _y, marker='o')\n",
    "\n",
    "# Set logarithmic scale for x-axis\n",
    "plt.xscale('log')\n",
    "\n",
    "# Add labels and title\n",
    "plt.xlabel('Discrete Values (X-axis)')\n",
    "plt.ylabel('Continuous Values (Y-axis)')\n",
    "plt.title('Requests vs Response time prediction with Random Forest')\n",
    "\n",
    "# Show the plot\n",
    "plt.show()\n"
   ]
  },
  {
   "cell_type": "code",
   "execution_count": 192,
   "metadata": {},
   "outputs": [
    {
     "data": {
      "text/plain": [
       "name                      zzzbktmolE\n",
       "username                  zzzuFfgcXJ\n",
       "email            zzzqpCmB9Y@test.com\n",
       "response_time                  0.207\n",
       "request                       200000\n",
       "dtype: object"
      ]
     },
     "execution_count": 192,
     "metadata": {},
     "output_type": "execute_result"
    }
   ],
   "source": [
    "merged.max()"
   ]
  }
 ],
 "metadata": {
  "kernelspec": {
   "display_name": "Python 3",
   "language": "python",
   "name": "python3"
  },
  "language_info": {
   "codemirror_mode": {
    "name": "ipython",
    "version": 3
   },
   "file_extension": ".py",
   "mimetype": "text/x-python",
   "name": "python",
   "nbconvert_exporter": "python",
   "pygments_lexer": "ipython3",
   "version": "3.10.11"
  }
 },
 "nbformat": 4,
 "nbformat_minor": 2
}
